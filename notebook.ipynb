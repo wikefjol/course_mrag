{
 "cells": [
  {
   "cell_type": "code",
   "execution_count": 1,
   "metadata": {},
   "outputs": [
    {
     "name": "stdout",
     "output_type": "stream",
     "text": [
      "Rebuilding vectorstore for sources/book...\n",
      "Splitting text in sources/book into chunks...\n"
     ]
    },
    {
     "name": "stderr",
     "output_type": "stream",
     "text": [
      "Processing documents: 100%|██████████| 71/71 [00:00<00:00, 44150.57it/s]\n"
     ]
    },
    {
     "name": "stdout",
     "output_type": "stream",
     "text": [
      "Nr of chunks: 71\n",
      "Adding 71 documents to the vectorstore...\n"
     ]
    }
   ],
   "source": [
    "from src.vectorstore import VectorstoreHandler\n",
    "from src.models import init_emb, init_llm\n",
    "from src.rag_tools import build_rag_chain, handle_query, create_answer_fn\n",
    "\n",
    "\n",
    "# Embedding models dictionary with unique identifiers as keys\n",
    "# AVAILABLE_EMBS = {y\n",
    "#     # OpenAI Embeddings\n",
    "#     \"openai-ada-002\": lambda: OpenAIEmbeddings(model=\"text-embedding-ada-002\", openai_api_key=os.getenv(\"OPENAI_API_KEY\")),\n",
    "#     \"openai-embedding-3-small\": lambda: OpenAIEmbeddings(model=\"text-embedding-3-small\", openai_api_key=os.getenv(\"OPENAI_API_KEY\")),\n",
    "#     \"openai-embedding-3-large\": lambda: OpenAIEmbeddings(model=\"text-embedding-3-large\", openai_api_key=os.getenv(\"OPENAI_API_KEY\")),\n",
    "    \n",
    "#     # Hugging Face Embeddings\n",
    "#     \"hf-mpnet-base-v2\": lambda: HuggingFaceEmbeddings(model_name=\"sentence-transformers/all-mpnet-base-v2\"),\n",
    "#     \"hf-minilm-l6-v2\": lambda: HuggingFaceEmbeddings(model_name=\"sentence-transformers/all-MiniLM-L6-v2\"),\n",
    "#     \"hf-multiqa-minilm-l6-v1\": lambda: HuggingFaceEmbeddings(model_name=\"sentence-transformers/multi-qa-MiniLM-L6-dot-v1\")\n",
    "# }\n",
    "\n",
    "# # LLM mappings\n",
    "# AVAILABLE_LLMS = {\n",
    "#     \"ChatGPT4o\": \"gpt-4o\",\n",
    "#     \"ChatGPT3.5-turbo\": \"gpt-3.5-turbo\",\n",
    "#     \"Llama3.2-3b\": \"llama3.2:3b\",\n",
    "# }\n",
    "\n",
    "sources_dir = \"sources\"\n",
    "subfolder_name = \"book\"\n",
    "book_dir = sources_dir+\"/\"+subfolder_name\n",
    "\n",
    "\n",
    "book_llm_name = \"ChatGPT4o\"\n",
    "book_emb_name = \"openai-embedding-3-small\"\n",
    "\n",
    "k = 10\n",
    "\n",
    "\n",
    "book_emb = init_emb(book_emb_name)\n",
    "book_llm = init_llm(book_llm_name)\n",
    "handler = VectorstoreHandler(sources_dir, force_rebuild=False)\n",
    "book_vs = handler.build_vectorstore(book_dir, book_emb, book_emb_name)\n",
    "book_retriever = handler._init_retriever(book_vs, book_dir, k)\n",
    "book_chain = build_rag_chain(book_retriever, book_llm)"
   ]
  },
  {
   "cell_type": "code",
   "execution_count": null,
   "metadata": {},
   "outputs": [
    {
     "name": "stdout",
     "output_type": "stream",
     "text": [
      "[Document(id='028d063d-f375-475a-9b41-6e38f9abbc5d', metadata={}, page_content='23/10/2024, 14:14 Biologically I spi ed Op imiza io  Me hods: A  I oduc io  23/10/2024, 14:14 Biologically I spi ed Op imiza io  Me hods: A  I oduc io \\nh ps:// 2.vle eade .com/Reade ?ea =9781845643447# 102/285 h ps:// 2.vle eade .com/Reade ?ea =9781845643447# 104/285'), Document(id='35ed3699-afd4-4337-a44d-61bbc59b86b3', metadata={}, page_content='23/10/2024, 14:14 Biologically I spi ed Op imiza io  Me hods: A  I oduc io  23/10/2024, 14:14 Biologically I spi ed Op imiza io  Me hods: A  I oduc io \\nh ps:// 2.vle eade .com/Reade ?ea =9781845643447# 142/285 h ps:// 2.vle eade .com/Reade ?ea =9781845643447# 144/285'), Document(id='aaa037ac-5d4e-4d3b-8205-0f559044e250', metadata={}, page_content='23/10/2024, 14:14 Biologically I spi ed Op imiza io  Me hods: A  I oduc io  23/10/2024, 14:14 Biologically I spi ed Op imiza io  Me hods: A  I oduc io \\nh ps:// 2.vle eade .com/Reade ?ea =9781845643447# 138/285 h ps:// 2.vle eade .com/Reade ?ea =9781845643447# 140/285'), Document(id='7814f300-1ba3-4473-920b-fa101d9a19e8', metadata={}, page_content='23/10/2024, 14:14 Biologically I spi ed Op imiza io  Me hods: A  I oduc io  23/10/2024, 14:14 Biologically I spi ed Op imiza io  Me hods: A  I oduc io \\nh ps:// 2.vle eade .com/Reade ?ea =9781845643447# 6/285 h ps:// 2.vle eade .com/Reade ?ea =9781845643447# 8/285'), Document(id='1cdc81ee-2624-4261-bbec-0139a5c837a4', metadata={}, page_content='23/10/2024, 14:14 Biologically I spi ed Op imiza io  Me hods: A  I oduc io  23/10/2024, 14:14 Biologically I spi ed Op imiza io  Me hods: A  I oduc io \\nh ps:// 2.vle eade .com/Reade ?ea =9781845643447# 70/285 h ps:// 2.vle eade .com/Reade ?ea =9781845643447# 72/285'), Document(id='953f606b-d5a9-48c1-8894-081fc244ad24', metadata={}, page_content='23/10/2024, 14:14 Biologically I spi ed Op imiza io  Me hods: A  I oduc io  23/10/2024, 14:14 Biologically I spi ed Op imiza io  Me hods: A  I oduc io \\nh ps:// 2.vle eade .com/Reade ?ea =9781845643447# 2/285 h ps:// 2.vle eade .com/Reade ?ea =9781845643447# 4/285'), Document(id='6dbe3e5e-64d4-4ea1-965a-958f728b45ad', metadata={}, page_content='23/10/2024, 14:14 Biologically I spi ed Op imiza io  Me hods: A  I oduc io  23/10/2024, 14:14 Biologically I spi ed Op imiza io  Me hods: A  I oduc io \\nh ps:// 2.vle eade .com/Reade ?ea =9781845643447# 50/285 h ps:// 2.vle eade .com/Reade ?ea =9781845643447# 52/285'), Document(id='c3507ce7-b706-4da0-b957-c4b077d30a33', metadata={}, page_content='23/10/2024, 14:14 Biologically I spi ed Op imiza io  Me hods: A  I oduc io  23/10/2024, 14:14 Biologically I spi ed Op imiza io  Me hods: A  I oduc io \\nh ps:// 2.vle eade .com/Reade ?ea =9781845643447# 150/285 h ps:// 2.vle eade .com/Reade ?ea =9781845643447# 152/285'), Document(id='ae12b37a-1c4f-4d08-86cb-3e0006b20b54', metadata={}, page_content='23/10/2024, 14:14 Biologically I spi ed Op imiza io  Me hods: A  I oduc io  23/10/2024, 14:14 Biologically I spi ed Op imiza io  Me hods: A  I oduc io \\nh ps:// 2.vle eade .com/Reade ?ea =9781845643447# 118/285 h ps:// 2.vle eade .com/Reade ?ea =9781845643447# 120/285'), Document(id='5627fc4f-a998-4847-b8ed-6637dbe80770', metadata={}, page_content='23/10/2024, 14:14 Biologically I spi ed Op imiza io  Me hods: A  I oduc io  23/10/2024, 14:14 Biologically I spi ed Op imiza io  Me hods: A  I oduc io \\nh ps:// 2.vle eade .com/Reade ?ea =9781845643447# 202/285 h ps:// 2.vle eade .com/Reade ?ea =9781845643447# 204/285')]\n"
     ]
    }
   ],
   "source": [
    "test_prompt = \"Explain PSO\"\n",
    "output = book_chain.invoke(test_prompt)\n",
    "ans = output['answer']\n",
    "docs = output['docs']\n",
    "print(ans)\n",
    "print(docs)\n"
   ]
  },
  {
   "cell_type": "code",
   "execution_count": 3,
   "metadata": {},
   "outputs": [],
   "source": []
  },
  {
   "cell_type": "code",
   "execution_count": null,
   "metadata": {},
   "outputs": [
    {
     "name": "stdout",
     "output_type": "stream",
     "text": [
      "Rebuilding vectorstore for sources/lectures...\n",
      "Splitting text in sources/lectures into chunks...\n"
     ]
    },
    {
     "name": "stderr",
     "output_type": "stream",
     "text": [
      "Processing documents: 100%|██████████| 959/959 [06:39<00:00,  2.40it/s]\n"
     ]
    },
    {
     "name": "stdout",
     "output_type": "stream",
     "text": [
      "Nr of chunks: 1459\n",
      "Adding 1459 documents to the vectorstore...\n"
     ]
    }
   ],
   "source": [
    "sources_dir = \"sources\"\n",
    "subfolder_name = \"lectures\"\n",
    "lect_dir = sources_dir+\"/\"+subfolder_name\n",
    "\n",
    "\n",
    "lect_llm_name = \"ChatGPT4o\"\n",
    "lect_emb_name = \"openai-embedding-3-small\"\n",
    "\n",
    "k = 10\n",
    "\n",
    "\n",
    "lect_emb = init_emb(lect_emb_name)\n",
    "lect_llm = init_llm(lect_llm_name)\n",
    "lect_vs = handler.build_vectorstore(lect_dir, lect_emb, lect_emb_name)\n",
    "lect_retriever = handler._init_retriever(lect_vs, lect_dir, k)\n",
    "lect_chain = build_rag_chain(lect_retriever, lect_llm)"
   ]
  },
  {
   "cell_type": "code",
   "execution_count": 5,
   "metadata": {},
   "outputs": [
    {
     "name": "stdout",
     "output_type": "stream",
     "text": [
      "Particle Swarm Optimization (PSO) is an optimization method inspired by swarming behavior in nature, such as that observed in birds and fish. It was developed by Eberhart and Kennedy in the mid-1990s. In PSO, a group (swarm) of particles moves through the solution space of an optimization problem, adjusting their positions based on their own experience and that of their neighbors, to find the optimal solution. Each particle has a position and a velocity, which are updated iteratively. The algorithm typically focuses on minimization problems, evaluating each particle based on an objective function. PSO does not use crossover like genetic algorithms (GAs) and allows for velocity-based search, which is more directed than random changes. Suitable for various applications, particularly effective in neural network optimization, PSO is noted for its simplicity in parameter setting and usually employs a smaller population size compared to GAs.\n",
      "[Document(id='531025d7-79c6-4f68-99a5-9e297cce2d5c', metadata={}, page_content='Basic PSO algo i hm\\n• S ep 1: I i ialize posi io s a d veloci ies\\n• 𝑟 =  a dom  umbe  i  [0,1[. • The i i ializa io  of veloci ies allows fo  bo h  ega ive a d posi ive values, \\neve  i   he case whe e 𝑥  a d 𝑥  a e bo h > 0.'), Document(id='42656f80-ae18-4533-b1bd-e51502f49375', metadata={}, page_content='Basic PSO algo i hm\\n• S ep 4: Upda e pa icle veloci ies a d posi io s\\n• Veloci y  es ic io  mus  be applied, ei he  compo e -wise (as i  S ep 4.2 \\nhe e) o  based o   he e i e veloci y vec o  𝒗\\n𝑖\\n• Agai ,  o e  ha , usually, Δ𝑡 = 1. Ma ias Wahde   ma ias.wahde@chalme s.se   h ps://www.me.chalme s.se/~mwahde 2024-10-04'), Document(id='cd9f8c5f-4c01-4158-963c-2cc7da61755d', metadata={}, page_content='Basic PSO algo i hm\\n𝒙𝑝𝑏 is  he bes  posi io  \\n𝑖\\n(lowes  value of f) fou d \\n• S ep 3: Upda e bes  posi io s\\n(so fa ) by pa icle 𝑖\\n𝒙𝑠𝑏 is  he bes  posi io  \\n(lowes  value of f) fou d \\n(so fa ) by a y pa icle \\ni   he swa m. • I  PSO, o e ge e ally co side s mi imiza io .'), Document(id='2e3b2897-e79a-44a7-9027-d1f604dfbdad', metadata={}, page_content='Basic PSO algo i hm\\n• S ep 2: Evalua e each pa icle. This is s aigh fo wa d: Give  a va iable \\nvec o  (omi i g  he i dex i  ha  e ume a es  he pa icles) 𝒙 = 𝑥 ,𝑥 , …𝑥 , \\n1 2 𝑛\\no e jus  compu es  he value of  he objec ive fu c io , i.e. 𝑓(𝒙).'), Document(id='de95ad4f-6cbe-4ab4-8ee3-fa0aa7c1f669', metadata={}, page_content='P ope ies of PSOs\\n• I  ge e al, pa ame e  se i g is qui e simple i  PSO: Se i g bo h 𝐶  a d 𝐶  \\n1 2\\n o ( oughly) 2  ypically wo ks well. • No e  ha , i  PSOs, o e  ypically uses a smalle  popula io  size  ha  i  GAs.'), Document(id='84f66dd8-4df0-4035-bf21-86f6c05189e5', metadata={}, page_content='P oblem 2.2\\n• Pa icle swa m op imiza io  (PSO): \\n• Co side   he fu c io \\n• Make a co ou  plo   o ide ify (all)  he mi ima, a d  he  fi d  hei  loca io s \\nmo e p ecisely, usi g PSO. Ma ias Wahde   ma ias.wahde@chalme s.se   h ps://www.me.chalme s.se/~mwahde 2024-09-27'), Document(id='fdfe25b8-3b56-41a8-b642-d1f719a396b3', metadata={}, page_content='B ief i oduc io   o PSO\\n• Pa icle swa m op imiza io  (PSO) is based o  swa mi g behavio  i   a u e, a \\nphe ome o   ha  is commo  i  ma y species of (fo  example) bi d a d fish. pp.'), Document(id='d8556bf9-99f4-43e6-b401-6177f316464d', metadata={}, page_content='Bi a y PSO\\n• Used i  p oblems whe e  he va iables  ake bi a y values. • Simila   o s a da d PSO, bu  uses a diffe e  i e p e a io  of  he veloci ies. • I  Bi a y PSO,  he veloci ies a e used fo  compu i g  he p obabili y of \\nse i g  he co espo di g posi io  compo e   o 1. • Veloci ies a e  es ic ed ( ypical limi  a ou d 4 o  so).'), Document(id='30442486-abc4-429d-957a-3e0476b01dd0', metadata={}, page_content='Pa icle swa m op imiza io \\n• Pa icle swa m op imiza io  (PSO) is a  op imiza io  me hod based o   he \\nbehavio  of swa ms. • Developed by Ebe ha  a d Ke edy i   he mid 1990s.'), Document(id='9ac53ded-dc7e-4a84-8884-2ba269435eb5', metadata={}, page_content='Applica io s\\n• As GAs a d ACO, PSO ca  be applied  o a wide va ie y of p oblems. • PSOs a e pa icula ly useful i   he case of  eu al  e wo k op imiza io , si ce \\n hey…\\n• …do  o  use c ossove  (which  ypically  educes  he fi ess of a  ANN qui e \\nsubs a ially, due  o  he dis ibu ed  a u e of i s compu a io )\\n• …have  he  o io  of veloci y i   he sea ch space: Di ec ed  a he   ha   a dom \\ncha ges (No e  ha  GAs ca  use c eep mu a io s  o achieve a somewha  simila  \\neffec ,  hough).')]\n"
     ]
    }
   ],
   "source": [
    "test_prompt = \"Explain PSO\"\n",
    "output = lect_chain.invoke(test_prompt)\n",
    "ans = output['answer']\n",
    "docs = output['docs']\n",
    "print(ans)\n",
    "print(docs)\n"
   ]
  },
  {
   "cell_type": "code",
   "execution_count": 27,
   "metadata": {},
   "outputs": [
    {
     "name": "stdout",
     "output_type": "stream",
     "text": [
      "Particle Swarm Optimization (PSO) is an optimization method inspired by the behavior of swarms, such as groups of birds or fish. Developed by Eberhart and Kennedy in the mid-1990s, PSO is particularly used for solving optimization problems within a search space defined by an objective function. \n",
      "\n",
      "Key characteristics of PSO include:\n",
      "\n",
      "1. **Particle Representation**: Individuals in the PSO are referred to as particles. Each particle represents a potential solution and defines a point in an n-dimensional search space.\n",
      "\n",
      "2. **Velocity and Position**: Unlike genetic algorithms (GAs), PSO incorporates the notion of velocity. Particles have velocities which direct their movement through the search space. Positions and velocities are initially randomized, allowing for both positive and negative values.\n",
      "\n",
      "3. **Objective Function Evaluation**: The position of each particle is evaluated using the objective function \\( f(x_i) \\), with the aim to minimize (or maximize by reversing inequalities) the function value.\n",
      "\n",
      "4. **Best Positions Update**: Each particle tracks its best position (personal best \\( x_{ipb} \\)) and the best position discovered by any particle in the swarm (global best \\( x_{sb} \\)).\n",
      "\n",
      "5. **Velocity and Position Update**: After evaluating positions, velocities are updated based on a combination of the particle's previous velocity, its distance from its personal best position, and its distance from the global best position. Typically, a social component \\( c_2 \\) and a cognitive component \\( c_1 \\) influence this update, usually set around 2. \n",
      "\n",
      "6. **Inertia Weight**: A crucial factor in PSO is the inertia weight \\( w \\), which controls the trade-off between exploration (searching new areas) and exploitation (refining known good solutions). The inertia weight typically decreases over time to favor precision over exploration.\n",
      "\n",
      "7. **Velocity Restrictions**: To maintain swarm coherence, velocities are restricted to a specified range \\([-v_{max}, v_{max}]\\). These restrictions help prevent particles from moving erratically through the search space.\n",
      "\n",
      "8. **Population Size**: Compared to GAs, PSO generally uses smaller population sizes, which might range from 20 to 40 particles, depending on the complexity of the problem.\n",
      "\n",
      "Overall, PSO is a robust and flexible optimization algorithm that can be easily adjusted for various types of problems by modifying parameters such as the inertia weight and the components \\( c_1 \\) and \\( c_2 \\). It is especially effective in applications like neural network optimization, where its directed nature over random search helps achieve better convergence.\n"
     ]
    }
   ],
   "source": []
  }
 ],
 "metadata": {
  "kernelspec": {
   "display_name": "venv",
   "language": "python",
   "name": "python3"
  },
  "language_info": {
   "codemirror_mode": {
    "name": "ipython",
    "version": 3
   },
   "file_extension": ".py",
   "mimetype": "text/x-python",
   "name": "python",
   "nbconvert_exporter": "python",
   "pygments_lexer": "ipython3",
   "version": "3.12.3"
  }
 },
 "nbformat": 4,
 "nbformat_minor": 2
}
