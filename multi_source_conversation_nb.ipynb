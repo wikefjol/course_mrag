{
 "cells": [
  {
   "cell_type": "code",
   "execution_count": 1,
   "metadata": {},
   "outputs": [
    {
     "name": "stderr",
     "output_type": "stream",
     "text": [
      "/home/filbern/workspace/projects/course_mrag/venv/lib/python3.12/site-packages/tqdm/auto.py:21: TqdmWarning: IProgress not found. Please update jupyter and ipywidgets. See https://ipywidgets.readthedocs.io/en/stable/user_install.html\n",
      "  from .autonotebook import tqdm as notebook_tqdm\n"
     ]
    },
    {
     "name": "stdout",
     "output_type": "stream",
     "text": [
      "Loading existing vectorstore for sources/book...\n",
      "Loading existing vectorstore for sources/lectures...\n"
     ]
    }
   ],
   "source": [
    "import os\n",
    "import json\n",
    "from src.dialogue_tools import create_rag, generate_answers, generate_follow_up_questions, cross_reference, aggregate_final_response, organize_into_json, display_from_json, run_all_questions\n",
    "from src.vectorstore import VectorstoreHandler\n",
    "from src.models import init_llm\n",
    "\n",
    "########################################\n",
    "# Configuration\n",
    "########################################\n",
    "SOURCES_DIR = \"sources\"\n",
    "JSON_PATH = \"multi_source_conversation.json\"\n",
    "AGGREGATION_LLM_NAME = \"Llama3.2-3b\"\n",
    "\n",
    "# Dynamically create one RAG config per subfolder under sources\n",
    "subfolders = [d for d in os.listdir(SOURCES_DIR) if os.path.isdir(os.path.join(SOURCES_DIR, d))]\n",
    "RAG_CONFIG = {}\n",
    "for sub in subfolders:\n",
    "    RAG_CONFIG[sub] = {\n",
    "        \"subfolder\": sub,\n",
    "        \"llm_name\": \"Llama3.2-3b\",\n",
    "        \"emb_name\": \"hf-minilm-l6-v2\",\n",
    "        \"k\": 10,\n",
    "    }\n",
    "\n",
    "handler = VectorstoreHandler(SOURCES_DIR, force_rebuild=False)\n",
    "rags = {name: create_rag(SOURCES_DIR, cfg, handler) for name, cfg in RAG_CONFIG.items()}\n",
    "aggregation_llm = init_llm(AGGREGATION_LLM_NAME)\n"
   ]
  },
  {
   "cell_type": "code",
   "execution_count": 4,
   "metadata": {},
   "outputs": [],
   "source": [
    "\n",
    "original_prompt = \"Explain how the kidneys regulate fluid and electrolyte balance. Include the processes of filtration, reabsorption, secretion, and excretion\" \n",
    "\n",
    "########################################\n",
    "# 1) Ask each RAG for initial answer\n",
    "########################################\n",
    "initial_responses = generate_answers(original_prompt, rags)\n",
    "\n",
    "########################################\n",
    "# 2) Aggregation LLM -> follow-up question for each RAG\n",
    "########################################\n",
    "agent_answers = {rag_name: data[\"answer\"] for rag_name, data in initial_responses.items()}\n",
    "follow_up_questions = generate_follow_up_questions(aggregation_llm, original_prompt, agent_answers)\n",
    "\n",
    "########################################\n",
    "# 3) Each RAG answers its follow-up question\n",
    "########################################\n",
    "follow_up_responses = {}\n",
    "for agent_name, question in follow_up_questions.items():\n",
    "    # Each agent gets exactly one follow-up question\n",
    "    answers = generate_answers(question, {agent_name: rags[agent_name]})\n",
    "    follow_up_responses[agent_name] = answers[agent_name]\n",
    "\n",
    "########################################\n",
    "# 4) Cross-reference: pick one other RAG to verify each answer\n",
    "########################################\n",
    "# We'll do a round-robin: for agent i, use agent (i+1) mod len(rags) to verify\n",
    "\n",
    "\n",
    "cross_agent_responses = cross_reference(\n",
    "    rags=rags,\n",
    "    follow_up_questions=follow_up_questions,\n",
    "    follow_up_responses=follow_up_responses,\n",
    "    original_prompt=original_prompt\n",
    ")\n",
    "\n",
    "########################################\n",
    "# 5) Final aggregated answer\n",
    "########################################\n",
    "all_responses = {}\n",
    "for agent_name in rags.keys():\n",
    "    all_responses[agent_name] = {\n",
    "        \"initial\": initial_responses[agent_name][\"answer\"],\n",
    "        \"follow_up\": follow_up_responses[agent_name][\"answer\"] if agent_name in follow_up_responses else \"\",\n",
    "    }\n",
    "\n",
    "final_answer = aggregate_final_response(aggregation_llm, all_responses, original_prompt)\n",
    "\n",
    "########################################\n",
    "# 6) Organize results in JSON and display\n",
    "########################################\n",
    "conversation_json = organize_into_json(\n",
    "    original_prompt,\n",
    "    initial_responses,\n",
    "    follow_up_questions,\n",
    "    follow_up_responses,\n",
    "    final_answer\n",
    ")\n",
    "conversation_json[\"cross_agent_responses\"] = {\n",
    "    target_rag: {\n",
    "        verifier: resp.get(\"answer\", \"No answer\")  # Ensure resp is a dictionary\n",
    "        for verifier, resp in cross_agent_responses[target_rag].items()\n",
    "    }\n",
    "    for target_rag in cross_agent_responses\n",
    "}\n",
    "\n",
    "#display_from_json(conversation_json)\n",
    "json.dump(conversation_json, open(JSON_PATH, \"w\"), indent=2)\n"
   ]
  },
  {
   "cell_type": "code",
   "execution_count": 2,
   "metadata": {},
   "outputs": [
    {
     "name": "stdout",
     "output_type": "stream",
     "text": [
      "{'How does synaptic plasticity in the hippocampus contribute to memory formation and retrieval?': \"Based on the provided responses, here is a concise and structured final answer:\\n\\n**Introduction**\\n\\nSynaptic plasticity in the hippocampus plays a crucial role in memory formation and retrieval by allowing the strength of connections between neurons to change based on experience.\\n\\n**Key Points**\\n\\n* Synaptic plasticity refers to the ability of neural connections (synapses) to change strength or duration in response to experience.\\n* Long-term potentiation (LTP) is a key mechanism underlying synaptic plasticity, involving changes in the structure and function of postsynaptic density proteins and AMPA receptor insertion/re removal mechanisms.\\n* Changes in synaptic strength and connectivity between neurons may be involved in memory formation and retrieval.\\n* Experience-dependent plasticity in animal models can be visualized using techniques such as electrophysiology and imaging.\\n\\n**Examples/Applications**\\n\\nThe study of synaptic plasticity in the hippocampus has implications for understanding memory disorders, such as Alzheimer's disease. Research on silent synapses reveals mechanisms of early LTP neuroscience that are essential for comprehension.\\n\\n**Conclusion**\\n\\nSynaptic plasticity in the hippocampus is a complex process involving changes in synaptic strength and connectivity between neurons, with long-term potentiation (LTP) being a key mechanism underlying memory formation and retrieval. Further research is needed to fully elucidate the role of synaptic plasticity in memory processes.\", 'What is the role of the amygdala in fear conditioning, and how is this studied experimentally?': '**Final Answer**\\n\\n1. **Introduction**: The amygdala plays a crucial role in fear conditioning by processing emotional information associated with threats or dangers.\\n\\n2. **Key Points**:\\n    * The amygdala processes sensory information from conditioned stimuli (CS) and unconditioned stimuli (US).\\n    * Activation of the amygdala leads to the release of neurotransmitters, such as glutamate and GABA.\\n    * Association between CS and US occurs through repeated presentations and consolidation in brain regions like PFC, hippocampus, and ACC.\\n    * The fear circuit involves components like dorsomedial amygdala, VTA, and PFC/ACC.\\n\\n3. **Examples/Applications**: Understanding the role of the amygdala in fear conditioning can inform treatments for anxiety disorders, such as modulating amygdalar activity or altering neurotransmitter systems.\\n\\n4. **Conclusion**: The amygdala is crucial for associating stimuli with fear responses through processing emotional information and releasing neurotransmitters, highlighting its importance in human emotions and social behavior.', 'Describe how dopaminergic pathways underlie reward-related behavior and drug addiction.': '**Dopaminergic Pathways and Reward-Related Behavior**\\n\\nDopamine release in the nucleus accumbens (NAcc) plays a critical role in the rewarding effects of drugs, including euphoria and motivation to repeat the behavior.\\n\\n**Key Points:**\\n\\n• Repeated exposure to addictive substances leads to long-term potentiation of synaptic connections between dopamine neurons and their target cells.\\n• Chronic exposure can lead to an increase in the density of dopamine receptors, particularly D2 and D3 receptors.\\n• Altered dopamine signaling occurs through changes in the expression of genes involved in dopamine production and release.\\n\\n**Examples/Applications:**\\n\\nThe mesolimbic dopaminergic system is thought to be a key player in drug addiction, particularly during the initial stages of substance use. Understanding the role of dopamine pathways can inform treatment strategies for addiction.\\n\\n**Conclusion:**\\nDopaminergic pathways contribute significantly to long-term changes in brain structure and function following chronic drug exposure, highlighting the importance of targeting these pathways in the development of effective treatments for addiction.', 'Discuss the influence of the prefrontal cortex on decision-making, impulse control, and executive functions.': '**Influence of the Prefrontal Cortex on Decision-Making, Impulse Control, and Executive Functions**\\n\\n1. **Introduction**\\nThe prefrontal cortex (PFC) is a critical region in the brain that plays a crucial role in decision-making, impulse control, and executive functions.\\n\\n2. **Key Points**\\n• The PFC is involved in evaluating consequences, weighing risks and rewards, and selecting optimal solutions.\\n• Damage to the PFC can lead to impairments in decision-making, as seen in patients with frontotemporal dementia or traumatic brain injuries.\\n• The prefrontal cortex regulates emotions, motivation, and behavior, influencing impulse control.\\n• Executive functions, such as planning, organization, and problem-solving, are heavily reliant on the PFC.\\n\\n3. **Examples/Applications**\\nFor instance, individuals with impulse control disorders, such as kleptomania or pyromania, often exhibit dysfunction in the prefrontal cortex.\\nAdditionally, interventions targeting the prefrontal cortex, such as medication or neurostimulation, have been shown to improve symptoms in various neuropsychiatric disorders.\\n\\n4. **Conclusion**\\nThe prefrontal cortex is essential for regulating decision-making, impulse control, and executive functions. Dysfunction or damage to this region can lead to significant impairments in these domains, highlighting the importance of this brain region in maintaining cognitive function and behavioral regulation.', 'Explain how chronic stress affects the hypothalamic–pituitary–adrenal (HPA) axis and impacts behavior and cognition.': '1. **Introduction**: Chronic stress activates the hypothalamic-pituitary-adrenal (HPA) axis, leading to long-term changes in gene expression and neuronal structure that impact behavior and cognition.\\n\\n2. **Key Points**:\\n    *   Chronic stress can impair the functioning of the hippocampus, a region critical for learning and memory.\\n    *   The HPA axis activation by chronic stress can lead to changes in the structure and function of the prefrontal cortex, resulting in impaired cognitive performance and mood disturbances.\\n    *   Changes in gene expression and neuronal structure result in altered regulation of several key molecules that regulate circadian rhythms, leading to desynchronization between the SCN and peripheral clocks.\\n    *   Chronic stress influences gene expression in regions involved in regulating circadian rhythms, impacting the function of the HPA axis.\\n\\n3. **Examples/Applications**:\\n    *   Research has shown that chronic stress can lead to increased density of glucocorticoid receptors in certain regions of the brain, further disrupting the normal regulation of circadian rhythms.\\n    *   Exercise and mindfulness practices have been found to reduce cortisol levels and improve mood, promoting a healthy HPA axis function.\\n\\n4. **Conclusion**: Chronic stress activation of the HPA axis can lead to long-term changes in gene expression and neuronal structure, impacting behavior and cognition. Understanding these effects is crucial for developing effective strategies to manage chronic stress and promote overall well-being.'}\n"
     ]
    }
   ],
   "source": [
    "# Define folder for logs\n",
    "LOG_FOLDER = \"question_logs\"\n",
    "os.makedirs(LOG_FOLDER, exist_ok=True)\n",
    "# Example usage:\n",
    "questions = [\n",
    "    \"How does synaptic plasticity in the hippocampus contribute to memory formation and retrieval?\",\n",
    "    \"What is the role of the amygdala in fear conditioning, and how is this studied experimentally?\",\n",
    "    \"Describe how dopaminergic pathways underlie reward-related behavior and drug addiction.\",\n",
    "    \"Discuss the influence of the prefrontal cortex on decision-making, impulse control, and executive functions.\",\n",
    "    \"Explain how chronic stress affects the hypothalamic–pituitary–adrenal (HPA) axis and impacts behavior and cognition.\"\n",
    "]\n",
    "final_qa = run_all_questions(questions, rags, aggregation_llm, LOG_FOLDER)\n",
    "\n"
   ]
  },
  {
   "cell_type": "code",
   "execution_count": 4,
   "metadata": {},
   "outputs": [],
   "source": [
    "log_folder = \"graduate_question_logs\"\n",
    "graduate_exam_questions = [\n",
    "    \"Discuss the molecular mechanisms underlying synaptic plasticity and their role in encoding long-term memory. How do these mechanisms vary across different brain regions?\",\n",
    "    \"Explain how stress-induced dysregulation of the hypothalamic-pituitary-adrenal (HPA) axis contributes to the pathophysiology of neuropsychiatric disorders, such as depression and PTSD.\",\n",
    "    \"Describe the functional differences between the mesolimbic and mesocortical dopaminergic pathways. How do these differences influence behaviors associated with reward and executive control?\",\n",
    "    \"Evaluate the role of the amygdala-prefrontal cortex circuit in emotional regulation and decision-making. How does this circuit adapt during chronic stress or trauma?\",\n",
    "    \"Analyze the contributions of neuroimaging techniques (e.g., fMRI, PET) to understanding the neural substrates of executive functions. What are the limitations of these methods in capturing dynamic brain activity?\"\n",
    "]\n",
    "\n",
    "os.makedirs(log_folder, exist_ok=True)\n",
    "final_qa = run_all_questions(questions, rags, aggregation_llm, log_folder)\n"
   ]
  }
 ],
 "metadata": {
  "kernelspec": {
   "display_name": "venv",
   "language": "python",
   "name": "python3"
  },
  "language_info": {
   "codemirror_mode": {
    "name": "ipython",
    "version": 3
   },
   "file_extension": ".py",
   "mimetype": "text/x-python",
   "name": "python",
   "nbconvert_exporter": "python",
   "pygments_lexer": "ipython3",
   "version": "3.12.3"
  }
 },
 "nbformat": 4,
 "nbformat_minor": 2
}
